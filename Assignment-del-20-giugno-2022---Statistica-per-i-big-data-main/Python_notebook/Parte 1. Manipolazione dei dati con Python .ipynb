{
 "cells": [
  {
   "cell_type": "markdown",
   "id": "b4f30acf-826e-4ae6-b641-8c312a9ee2fe",
   "metadata": {
    "tags": []
   },
   "source": [
    "### Fasi preliminari\n",
    "\n",
    "1. verifico la versione di python utilizzata\n",
    "2. installo il pacchetto pandas e lo importo"
   ]
  },
  {
   "cell_type": "code",
   "execution_count": 1,
   "id": "7174f25b-d662-4c3f-b398-dbaf0aaa33bb",
   "metadata": {},
   "outputs": [
    {
     "data": {
      "text/plain": [
       "'3.9.7'"
      ]
     },
     "execution_count": 1,
     "metadata": {},
     "output_type": "execute_result"
    }
   ],
   "source": [
    "from platform import python_version\n",
    "\n",
    " # visualizzo la versione\n",
    "python_version()"
   ]
  },
  {
   "cell_type": "code",
   "execution_count": 2,
   "id": "58c61b7f-c1a9-485f-94b7-c749fb032dfc",
   "metadata": {},
   "outputs": [
    {
     "name": "stdout",
     "output_type": "stream",
     "text": [
      "Requirement already satisfied: pandas in c:\\users\\matte\\anaconda3\\lib\\site-packages (1.3.4)\n",
      "Requirement already satisfied: python-dateutil>=2.7.3 in c:\\users\\matte\\anaconda3\\lib\\site-packages (from pandas) (2.8.2)\n",
      "Requirement already satisfied: pytz>=2017.3 in c:\\users\\matte\\anaconda3\\lib\\site-packages (from pandas) (2021.3)\n",
      "Requirement already satisfied: numpy>=1.17.3 in c:\\users\\matte\\anaconda3\\lib\\site-packages (from pandas) (1.20.3)\n",
      "Requirement already satisfied: six>=1.5 in c:\\users\\matte\\anaconda3\\lib\\site-packages (from python-dateutil>=2.7.3->pandas) (1.16.0)\n"
     ]
    }
   ],
   "source": [
    "# installo il pacchetto pandas\n",
    "!pip install pandas \n",
    "\n",
    "# importo la libreria \n",
    "import pandas as pd "
   ]
  },
  {
   "cell_type": "markdown",
   "id": "a291847b-5c7c-4002-88f9-513ef433f541",
   "metadata": {
    "tags": []
   },
   "source": [
    "### 1. Importo i file .cvs con pandas\n"
   ]
  },
  {
   "cell_type": "code",
   "execution_count": null,
   "id": "dcc8112b-bc55-401a-a0c0-e495078102c9",
   "metadata": {
    "tags": []
   },
   "outputs": [],
   "source": [
    "# importo il file .cvs tramite url da github - evitando di caricarlo dal disco locale.\n",
    "# assengo il nome coffee_beans al file .cvs\n",
    "coffee_beans = pd.read_csv(\"https://raw.githubusercontent.com/giancaman/Assignment-del-20-giugno-2022---Statistica-per-i-big-data/main/data-processed/coffee_beans.csv\")\n",
    "\n",
    "#richiamo il mio df a schermo cosi da visualizzarlo\n",
    "coffee_beans"
   ]
  },
  {
   "cell_type": "code",
   "execution_count": null,
   "id": "10a42448-acae-4d84-95fe-8dc53362df57",
   "metadata": {},
   "outputs": [],
   "source": [
    "# eseguo la medesima procedura anche per il secondo file .csv\n",
    "coffee_ratings = pd.read_csv(\"https://raw.githubusercontent.com/giancaman/Assignment-del-20-giugno-2022---Statistica-per-i-big-data/main/data-processed/coffee_ratings.csv\")\n",
    "coffee_ratings"
   ]
  },
  {
   "cell_type": "markdown",
   "id": "17b5affa-67f5-412f-94fb-0a9c7e525b63",
   "metadata": {
    "tags": []
   },
   "source": [
    "### 2. unisco le due tabelle usando la colonna coffee_id come riferimento"
   ]
  },
  {
   "cell_type": "markdown",
   "id": "bc698247-b958-49d1-acf3-a60b8c643ebf",
   "metadata": {},
   "source": [
    "per unire le due tabelle uso la funzione .merge usando come colonna di riferimento \"coffee_id\"\n",
    "e salvo il tutto in un nuovo df chiamato coffee_data_merged"
   ]
  },
  {
   "cell_type": "code",
   "execution_count": null,
   "id": "98c48a6d-ce32-4156-945b-9f76759f3ef7",
   "metadata": {},
   "outputs": [],
   "source": [
    "coffee_data_merged = coffee_beans.merge(coffee_ratings,\n",
    "                                       on = \"coffee_id\")\n",
    "#visualizzo il mio nuovo df\n",
    "coffee_data_merged.head() # .head() mi restituisce solo le prime 5 righe della tabella"
   ]
  },
  {
   "cell_type": "markdown",
   "id": "c9bc71d6-5632-4e9c-8249-da381dd074b8",
   "metadata": {
    "jp-MarkdownHeadingCollapsed": true,
    "tags": []
   },
   "source": [
    "### 3.1 ispeziono la presenza di valori nulli\n",
    "    3.2 elimino le colonne meno rilevanti per le mie analisi\n",
    "       "
   ]
  },
  {
   "cell_type": "code",
   "execution_count": null,
   "id": "5fd58ca5-a168-4e24-a75a-1ce265f827b7",
   "metadata": {},
   "outputs": [],
   "source": [
    "coffee_data_merged.isnull() #.isnull() restituisce true se il mio valore è nullo, false se non nullo"
   ]
  },
  {
   "cell_type": "code",
   "execution_count": null,
   "id": "ad0b73e6-4210-4518-ad9d-d4c04161b8df",
   "metadata": {
    "tags": []
   },
   "outputs": [],
   "source": [
    "coffee_data_merged.isnull().sum() # ispeziono quanti dati sono nulli per le varie etichette"
   ]
  },
  {
   "cell_type": "markdown",
   "id": "7f00affc-20fe-4fec-8d63-55910604c11e",
   "metadata": {},
   "source": [
    "Scelgo di eliminare le colonne: [\"variety\", \"processing_method\", \"color\"], perchè sono quelle con più valori nulli. \n",
    "Inoltre, elimino anche la colonna: [\"moisture\"], perchè presenta valori molto piccoli rispetto alle altre variabili e perciò non la ritengo significativa per le analisi future."
   ]
  },
  {
   "cell_type": "code",
   "execution_count": null,
   "id": "010aab35-3b31-41c5-8969-e40662f17db3",
   "metadata": {
    "tags": []
   },
   "outputs": [],
   "source": [
    " # elimino le colonne selezionate e salvo il tutto nel df coffee_data_merged_reshaped\n",
    "coffee_data_merged_reshaped = coffee_data_merged.drop([\"variety\",\n",
    "                                                       \"processing_method\", \n",
    "                                                       \"color\",\n",
    "                                                       \"moisture\" ], \n",
    "                                                      1)"
   ]
  },
  {
   "cell_type": "code",
   "execution_count": null,
   "id": "d126d4cf-fd84-4f9a-8b22-272dc53f44b7",
   "metadata": {},
   "outputs": [],
   "source": [
    "coffee_data_merged_reshaped.columns # controllo che le colonne siano state effetticvamente eliminate"
   ]
  },
  {
   "cell_type": "code",
   "execution_count": null,
   "id": "29e13012-d423-40f6-9d5e-ad85354cd538",
   "metadata": {},
   "outputs": [],
   "source": [
    "coffee_data_merged_reshaped"
   ]
  },
  {
   "cell_type": "markdown",
   "id": "301e4b75-7fc8-40e1-83b7-da1f12a2e5f2",
   "metadata": {
    "jp-MarkdownHeadingCollapsed": true,
    "tags": []
   },
   "source": [
    "### 4. Creo una colonna con valori dummy\n",
    "    se  total_cup_point > 82.5 --> = 1\n",
    "                        < 82.5 --> = 0"
   ]
  },
  {
   "cell_type": "code",
   "execution_count": null,
   "id": "bb5d6982-bffb-4ab6-b774-7b91bba10dd6",
   "metadata": {},
   "outputs": [],
   "source": [
    "# creo un ciclo for per assegnare il valore dummy al valore di total_cup_poing\n",
    "# in ogni riga del df, infine aggiungo una colonna al df con i risultati di nome high_quality.\n",
    "\n",
    "high_quality = []\n",
    "\n",
    "for row in coffee_data_merged_reshaped[\"total_cup_points\"]:\n",
    "    if row > 82.5:\n",
    "        high_quality.append(1)\n",
    "    else:\n",
    "        high_quality.append(0)\n",
    "\n",
    "coffee_data_merged_reshaped[\"high_quality\"] = high_quality"
   ]
  },
  {
   "cell_type": "code",
   "execution_count": null,
   "id": "c7fd5f97-c76e-41dc-b458-d81b4bb28327",
   "metadata": {},
   "outputs": [],
   "source": [
    "coffee_data_merged_reshaped #verifico che la mia colonna con i valori dummy è stata creata"
   ]
  },
  {
   "cell_type": "markdown",
   "id": "f1ddd124-5e50-42ee-be3d-ec3df50b71ec",
   "metadata": {
    "jp-MarkdownHeadingCollapsed": true,
    "tags": []
   },
   "source": [
    "### 5. esporto il dataframe "
   ]
  },
  {
   "cell_type": "code",
   "execution_count": null,
   "id": "386535f6-3b40-450a-9f81-4beff7f59e90",
   "metadata": {},
   "outputs": [],
   "source": [
    "# salvo il mio df in .csv con il nome \"coffe.csv\"\n",
    "coffee_data_merged_reshaped.to_csv(\"C:/Users/matte/Desktop/Assignment-del-20-giugno-2022---Statistica-per-i-big-data-main/data-modelling/coffe.csv.csv\")"
   ]
  },
  {
   "cell_type": "markdown",
   "id": "f2ae45bd-bb4a-4f32-98b7-a44e94f9e6ad",
   "metadata": {
    "jp-MarkdownHeadingCollapsed": true,
    "tags": []
   },
   "source": [
    "### 6.1 raggruppo i dati per paese di provenienza\n",
    "#### 6.2 calcolo: valore minimo / massimo / media per la varibile total_cup_points.\n",
    "#### 6.3 infine, li ordino in ordine descrescente in base alle media"
   ]
  },
  {
   "cell_type": "markdown",
   "id": "eb3e1af9-e74e-41f6-b20c-c04bb4978035",
   "metadata": {
    "jp-MarkdownHeadingCollapsed": true,
    "tags": []
   },
   "source": [
    "##### 6.1 raggruppo i dati"
   ]
  },
  {
   "cell_type": "markdown",
   "id": "2ed7b6c1-83ec-4a86-a861-ebd48f6018c5",
   "metadata": {},
   "source": [
    "raggruppo i dati per la variabile \"country_of_origin\" usando la funzione .groupby"
   ]
  },
  {
   "cell_type": "code",
   "execution_count": null,
   "id": "518ddf07-e425-464a-9116-7d0799c1247a",
   "metadata": {
    "tags": []
   },
   "outputs": [],
   "source": [
    "coffee_by_country =  coffee_data_merged_reshaped.groupby(\"country_of_origin\")"
   ]
  },
  {
   "cell_type": "markdown",
   "id": "3a695ad9-d5a5-4873-b2e1-e14ecf0eb40a",
   "metadata": {
    "jp-MarkdownHeadingCollapsed": true,
    "tags": []
   },
   "source": [
    "##### 6.2 valore minimo / massimo / media + altre informazioni del dataframe per paese"
   ]
  },
  {
   "cell_type": "code",
   "execution_count": null,
   "id": "ba4e4a30-489e-4543-a3aa-b2ecd0a127a3",
   "metadata": {},
   "outputs": [],
   "source": [
    "# valore minimo\n",
    "coffee_by_country.min(\"total_cup_points\").head() "
   ]
  },
  {
   "cell_type": "code",
   "execution_count": null,
   "id": "0502768f-9e82-4db9-903a-394a3b3f035f",
   "metadata": {},
   "outputs": [],
   "source": [
    "# valore massimo\n",
    "coffee_by_country.max(\"total_cup_points\").head()"
   ]
  },
  {
   "cell_type": "code",
   "execution_count": null,
   "id": "4e48ff79-74dd-4622-8a50-ee9d2137d5db",
   "metadata": {},
   "outputs": [],
   "source": [
    "# valore medio\n",
    "coffee_by_country.mean(\"total_cup_points\").round(2).head()"
   ]
  },
  {
   "cell_type": "markdown",
   "id": "ee98d4c4-86b0-4c1b-84cc-0f8faf48e0c8",
   "metadata": {
    "jp-MarkdownHeadingCollapsed": true,
    "tags": []
   },
   "source": [
    "##### 6.2 se voglio vedere solo il valore minimo / massimo / media per paese"
   ]
  },
  {
   "cell_type": "code",
   "execution_count": null,
   "id": "6bff70fe-58b1-431b-b50c-9a9cd46ee486",
   "metadata": {},
   "outputs": [],
   "source": [
    "# valore minimo\n",
    "coffee_by_country_min = coffee_by_country[\"total_cup_points\"].min(\"total_cup_points\").head()\n",
    "coffee_by_country_min.head()"
   ]
  },
  {
   "cell_type": "code",
   "execution_count": null,
   "id": "0e4cff97-d0da-442c-997c-d723524de426",
   "metadata": {},
   "outputs": [],
   "source": [
    "# valore massimo\n",
    "coffee_by_country_max = coffee_by_country[\"total_cup_points\"].max(\"total_cup_points\").head() \n",
    "coffee_by_country_max.head()"
   ]
  },
  {
   "cell_type": "code",
   "execution_count": null,
   "id": "671ee742-6f39-4e5b-9600-9897c7c511a0",
   "metadata": {
    "tags": []
   },
   "outputs": [],
   "source": [
    "# valore medio\n",
    "coffee_by_country_mean = coffee_by_country[\"total_cup_points\"].mean(\"total_cup_points\").round(2) \n",
    "coffee_by_country_mean.head()"
   ]
  },
  {
   "cell_type": "code",
   "execution_count": null,
   "id": "c2b5ed15-2afe-4349-a902-b3595854093d",
   "metadata": {},
   "outputs": [],
   "source": [
    "coffee_by_country_mean.mean()  # media totale"
   ]
  },
  {
   "cell_type": "code",
   "execution_count": null,
   "id": "6a53cbc0-b4ae-4179-9bdc-d918ca34b93b",
   "metadata": {},
   "outputs": [],
   "source": [
    "coffee_by_country_min.min() # min totale"
   ]
  },
  {
   "cell_type": "code",
   "execution_count": null,
   "id": "50844671-2bc3-4fdf-9bcb-7ab6d71e02d6",
   "metadata": {},
   "outputs": [],
   "source": [
    "coffee_by_country_max.max() # max totale"
   ]
  },
  {
   "cell_type": "markdown",
   "id": "1da33476-d777-4039-9b3c-01513c1023ab",
   "metadata": {
    "jp-MarkdownHeadingCollapsed": true,
    "tags": []
   },
   "source": [
    "##### 6.3 ordino in ordine decrescente i dati in base alla media"
   ]
  },
  {
   "cell_type": "code",
   "execution_count": null,
   "id": "b223609c-7d8b-4d4c-a465-cc36c14e57e8",
   "metadata": {},
   "outputs": [],
   "source": [
    "coffee_data_merged_reshaped.groupby(\"country_of_origin\").mean().round(2).sort_values((\"total_cup_points\"),ascending = False)"
   ]
  },
  {
   "cell_type": "markdown",
   "id": "2adf63e6-c706-4677-b227-67d07507aafb",
   "metadata": {
    "tags": []
   },
   "source": [
    "### 7. creo il grafico\n"
   ]
  },
  {
   "cell_type": "markdown",
   "id": "e7580467-35cb-47de-80e6-37043f857961",
   "metadata": {},
   "source": [
    "disegno un grafico con i paesi sull’asse x e sull’asse y la media di total_cup_points.\n",
    "successivamente individuo i punti che esprimono il valore minimo, medio e massimo."
   ]
  },
  {
   "cell_type": "code",
   "execution_count": null,
   "id": "73f77858-db65-4167-9300-a5c7e5cdf3ff",
   "metadata": {
    "tags": []
   },
   "outputs": [],
   "source": [
    "# importo due librerie \n",
    "import matplotlib.pyplot as plt\n",
    "import numpy as np"
   ]
  },
  {
   "cell_type": "code",
   "execution_count": null,
   "id": "3e2ca8d6-2923-400e-840c-c74609c0475c",
   "metadata": {},
   "outputs": [],
   "source": [
    "# identiico le due colonne del df cocoffee_data_merged_reshaped\n",
    "# che userò per il grafico\n",
    "coffee_country_cup = coffee_data_merged_reshaped[[\"country_of_origin\", \"total_cup_points\"]] \n",
    "coffee_country_cup.head()"
   ]
  },
  {
   "cell_type": "code",
   "execution_count": null,
   "id": "d7060dbf-555e-48ed-93ee-16a75866eeb4",
   "metadata": {
    "tags": []
   },
   "outputs": [],
   "source": [
    "# raggruppo per paese di origine\n",
    "coffee_country_cup_df = coffee_country_cup.groupby([\"country_of_origin\"]) "
   ]
  },
  {
   "cell_type": "code",
   "execution_count": null,
   "id": "499803ea-9446-4375-b16d-09f70d1790ef",
   "metadata": {},
   "outputs": [],
   "source": [
    "# raggruppo per paese e ne calcolo la media\n",
    "coffe_data_plot = coffee_country_cup_df.aggregate(np.mean).round(2) \n",
    "coffe_data_plot.head()"
   ]
  },
  {
   "cell_type": "code",
   "execution_count": null,
   "id": "5d6487c4-a0b3-4040-935a-f558814ca3a8",
   "metadata": {},
   "outputs": [],
   "source": [
    "coffe_data_plot.max() # calcolo il valore max dei valori medi"
   ]
  },
  {
   "cell_type": "code",
   "execution_count": null,
   "id": "60ce847d-e049-4404-8e28-e5c79e8604b4",
   "metadata": {},
   "outputs": [],
   "source": [
    "coffe_data_plot.mean() # calcolo il valore medio dei valori medi"
   ]
  },
  {
   "cell_type": "code",
   "execution_count": null,
   "id": "9b047c05-233f-41e5-b18d-ddfda6382be7",
   "metadata": {},
   "outputs": [],
   "source": [
    "coffe_data_plot.min() # calcolo il valore min dei valori medi"
   ]
  },
  {
   "cell_type": "code",
   "execution_count": null,
   "id": "27ede795-c441-4fe6-a676-a9face86999a",
   "metadata": {
    "tags": []
   },
   "outputs": [],
   "source": [
    "fig, ax = plt.subplots()\n",
    "\n",
    "# disegno il grafico \n",
    "ax.plot(coffe_data_plot, # scelgo i dati da plottare\n",
    "       color = \"black\", # scelgo il colore delle linee del grafico\n",
    "       linestyle = \":\", # lo stile della linea\n",
    "       marker = \"d\", # il tipo di punto dei valori, in questo caso thin diamond\n",
    "       )\n",
    "# faccio delle modifiche grafiche \n",
    "plt.xticks(rotation = 90) # ruoto di 90° il testo sull'asse delle x\n",
    "# aggiungo titolo principale e degli assi\n",
    "plt.xlabel(\"Paese di origine caffè\",\n",
    "          fontsize = 12) # modifico la dimensione del carattere\n",
    "plt.ylabel(\"Valore medio total_cup_points\",\n",
    "          fontsize = 12, \n",
    "          labelpad = 10) # modifico la distanza dell'asse rispetto al grafico\n",
    "plt.title(\"Valore medio total_cup_points rispetto al paese di origine\",\n",
    "         weight = \"bold\", # metto il titolo in grassetto\n",
    "         pad = 15)\n",
    "\n",
    "#aggiungo 3 linee che rappresentano il punto min / mean / max \n",
    "plt.axhline(y = 77.18, \n",
    "            color = \"red\",\n",
    "           linestyle = \"--\",\n",
    "           label = \"min:77.18\", \n",
    "           )\n",
    "plt.axhline(y = 85.75, \n",
    "            color = \"green\",\n",
    "           linestyle = \"--\",\n",
    "           label = \"max:85.75\")\n",
    "plt.axhline(y = 82.047059, \n",
    "            color = \"purple\",\n",
    "           linestyle = \"-.\",\n",
    "           label = \"mean:82.05\")\n",
    "\n",
    "# creo una legenda \n",
    "plt.legend(loc = \"lower right\") \n",
    "\n",
    "#salvo il grafico come immagine .jpeg\n",
    "plt.savefig(\"C:/Users/matte/Desktop/Assignment-del-20-giugno-2022---Statistica-per-i-big-data-main/Python_notebook/plot_part_1.jpeg\",\n",
    "           transparent = False,\n",
    "           facecolor = \"white\",\n",
    "           edgecolor = \"white\",\n",
    "           bbox_inches = 'tight')\n",
    "\n",
    "#mostro il grafico\n",
    "plt.show()"
   ]
  }
 ],
 "metadata": {
  "kernelspec": {
   "display_name": "Python 3 (ipykernel)",
   "language": "python",
   "name": "python3"
  },
  "language_info": {
   "codemirror_mode": {
    "name": "ipython",
    "version": 3
   },
   "file_extension": ".py",
   "mimetype": "text/x-python",
   "name": "python",
   "nbconvert_exporter": "python",
   "pygments_lexer": "ipython3",
   "version": "3.9.7"
  }
 },
 "nbformat": 4,
 "nbformat_minor": 5
}
